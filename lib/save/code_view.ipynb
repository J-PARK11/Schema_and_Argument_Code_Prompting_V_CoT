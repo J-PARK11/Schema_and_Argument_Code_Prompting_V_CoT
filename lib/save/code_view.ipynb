{
 "cells": [
  {
   "cell_type": "code",
   "execution_count": 7,
   "metadata": {},
   "outputs": [],
   "source": [
    "from PIL import Image\n",
    "import json\n",
    "def read_csv2(csvfilename, puzzle_id):\n",
    "    import csv\n",
    "    qa_info = []\n",
    "    option = [\"A\", \"B\", \"C\", \"D\", \"E\"]\n",
    "    with open(csvfilename, newline=\"\") as csvfile:\n",
    "        datareader = csv.DictReader(csvfile)\n",
    "        for row in datareader:\n",
    "            row[\"puzzle_id\"] = str(puzzle_id)\n",
    "            if len(row[\"A\"]) == 0:\n",
    "                row[\"A\"] = \"A\"\n",
    "                row[\"B\"] = \"B\"\n",
    "                row[\"C\"] = \"C\"\n",
    "                row[\"D\"] = \"D\"\n",
    "                row[\"E\"] = \"E\"\n",
    "            # create an option column\n",
    "            row[\"Option\"] = \"\\n\".join([f\"{o}: {row[o]}\" for o in option])\n",
    "            qa_info.append(row)\n",
    "    return qa_info\n",
    "\n",
    "import pandas as pd\n",
    "\n",
    "# # CSV 파일 경로\n",
    "# file_path = '/kh_code/GT_rationale_dataset.csv' \n",
    "\n",
    "# # Pandas의 read_csv 함수를 사용하여 데이터프레임 생성\n",
    "# df_f = pd.read_csv(file_path)\n",
    "\n",
    "puzzle_id = 49 #문제 유형 번호 입니다.\n",
    "ins = 1700 #int(puzzle_plus['insid'])\n",
    "\n",
    "\n",
    "# puzzle_plus = df_f.iloc[puzzle_id-1]\n",
    "csv_path = f\"/data/SMART101-release-v1/SMART101-Data/{puzzle_id}/puzzle_{puzzle_id}.csv\" # CSV까지의 경로\n",
    "# load csv\n",
    "\n",
    "\n",
    "puzzle_info = read_csv2(csv_path,puzzle_id) #CSV 불러오기\n",
    "data_path = f\"/data/SMART101-release-v1/SMART101-Data/{puzzle_id}/\" #문제 경로\n",
    "\n",
    "question = puzzle_info[ins][\"Question\"] #불러온 csv에서 첫번째 인스턴스의 Question\n",
    "option = puzzle_info[ins][\"Option\"] #불러온 csv에서 첫번째 인스턴스의 Option\n",
    "# base64_image = encode_image(data_path+\"img/\"+puzzle_info[ins][\"image\"]) #불러온 csv에서 이미지의 이름을 찾고 이미지 경로에서 이미지 불러오기\n",
    "# questions = f\" Question : {question}\\n Options : {option} code : {code}: \\n\\n\\n\\n :{instr}\"\n",
    "\n",
    "# print(question+\"\\n\"+option+\"\\n정답\"+puzzle_info[ins][\"Answer\"])"
   ]
  },
  {
   "cell_type": "code",
   "execution_count": 18,
   "metadata": {},
   "outputs": [],
   "source": [
    "import json\n",
    "\n",
    "cnt = 0\n",
    "result_dict = {}  # 결과를 저장할 딕셔너리\n",
    "\n",
    "# 전체 데이터를 저장할 JSON 파일 경로\n",
    "json_filename = '/data/SMART101-release-v1/schema_and_argument_data/result_qwen_2b_code_w_apilist.json'\n",
    "\n",
    "# 이전에 저장된 데이터가 있으면 불러오기\n",
    "try:\n",
    "    with open(json_filename, 'r', encoding='utf-8') as f:\n",
    "        code_w_apilist = json.load(f)\n",
    "except FileNotFoundError:\n",
    "    # 파일이 없으면 빈 딕셔너리로 시작\n",
    "    code_w_apilist = {}"
   ]
  },
  {
   "cell_type": "code",
   "execution_count": 19,
   "metadata": {},
   "outputs": [],
   "source": [
    "import json\n",
    "\n",
    "cnt = 0\n",
    "result_dict = {}  # 결과를 저장할 딕셔너리\n",
    "\n",
    "# 전체 데이터를 저장할 JSON 파일 경로\n",
    "json_filename = '/data/SMART101-release-v1/schema_and_argument_data/result_qwen_2b_code_wo_apilist.json'\n",
    "\n",
    "# 이전에 저장된 데이터가 있으면 불러오기\n",
    "try:\n",
    "    with open(json_filename, 'r', encoding='utf-8') as f:\n",
    "        code_wo_apilist = json.load(f)\n",
    "except FileNotFoundError:\n",
    "    # 파일이 없으면 빈 딕셔너리로 시작\n",
    "    code_wo_apilist = {}"
   ]
  },
  {
   "cell_type": "code",
   "execution_count": 22,
   "metadata": {},
   "outputs": [
    {
     "name": "stdout",
     "output_type": "stream",
     "text": [
      "```python\n",
      "def pseudo_code(grid):\n",
      "    # Find the position of 'black' and '?'\n",
      "    for idx in [1, 2]: \n",
      "        if grid[0][idx] == \"black\":\n",
      "            black_pos = (0, idx)\n",
      "        elif grid[idx][0] == \"black\":\n",
      "            black_pos = (idx, 0)\n",
      "\n",
      "        for idx2 in [1, 2]:\n",
      "            if grid[idx2][idx] == \"?\":\n",
      "                qm_pos = (idx2, idx)\n",
      "            elif grid[idx][idx2] == \"?\":\n",
      "                qm_pos = (idx, idx2)\n",
      "\n",
      "    # Find the value of 'black'\n",
      "    black_idx_list = [1, 2]\n",
      "    qm_idx_list = [1, 2]\n",
      "\n",
      "    if black_pos[0] == 0: # if 'black' is located on the first row\n",
      "        black_idx = int(black_idx_list.pop(black_idx_list.index(black_pos[1]))) # idx of row or col of 'black'\n",
      "        qm_idx = int(qm_idx_list.pop(qm_idx_list.index(qm_pos[0]))) # idx of row or col of '?'\n",
      "        row_value, sum_result = int(grid[qm_idx_list[0]][0]), int(grid[qm_idx_list[0]][black_idx])\n",
      "        black_value = sum_result - row_value\n",
      "        pair_value = int(grid[qm_idx][0])\n",
      "\n",
      "    if black_pos[1] == 0: # if 'black' is located on the first column\n",
      "        black_idx = int(black_idx_list.pop(black_idx_list.index(black_pos[0]))) # idx of row or col of 'black'\n",
      "        qm_idx = int(qm_idx_list.pop(qm_idx_list.index(qm_pos[1]))) # idx of row or col of '?'\n",
      "        col_value, sum_result = int(grid[0][qm_idx_list[0]]), int(grid[black_idx][qm_idx_list[0]])\n",
      "        black_value = sum_result - col_value\n",
      "        pair_value = int(grid[0][qm_idx])\n",
      "\n",
      "    # find the value of '?'\n",
      "    qm_value = pair_value + black_value\n",
      "\n",
      "    return qm_value\n",
      "```\n"
     ]
    },
    {
     "data": {
      "image/png": "[encoded data removed]",
      "text/plain": [
       "<PIL.PngImagePlugin.PngImageFile image mode=RGB size=400x400>"
      ]
     },
     "execution_count": 22,
     "metadata": {},
     "output_type": "execute_result"
    }
   ],
   "source": [
    "puzzle_id = 10 #문제 유형 번호 입니다.\n",
    "ins = 0 #int(puzzle_plus['insid'])\n",
    "# puzzle_plus = df_f.iloc[puzzle_id-1]\n",
    "\n",
    "# load csv\n",
    "puzzle_info = read_csv2(csv_path, puzzle_id) #CSV 불러오기\n",
    "puzzle_info[ins]['image']\n",
    "data_path = f\"/data/SMART101-release-v1/SMART101-Data/{puzzle_id}/\" #문제 경로\n",
    "csv_path = f\"/data/SMART101-release-v1/SMART101-Data/{puzzle_id}/puzzle_{puzzle_id}.csv\" # CSV까지의 경로\n",
    "image_path = data_path + \"img/\" + puzzle_info[ins][\"image\"]\n",
    "\n",
    "# 이미지 읽기\n",
    "img = Image.open(image_path)\n",
    "\n",
    "print(code_wo_apilist[puzzle_info[ins]['image']]['Generated_code'])\n",
    "\n",
    "\n",
    "img"
   ]
  },
  {
   "cell_type": "code",
   "execution_count": 17,
   "metadata": {},
   "outputs": [
    {
     "data": {
      "text/plain": [
       "{}"
      ]
     },
     "execution_count": 17,
     "metadata": {},
     "output_type": "execute_result"
    }
   ],
   "source": [
    "code_wo_apilist"
   ]
  }
 ],
 "metadata": {
  "kernelspec": {
   "display_name": "base",
   "language": "python",
   "name": "python3"
  },
  "language_info": {
   "codemirror_mode": {
    "name": "ipython",
    "version": 3
   },
   "file_extension": ".py",
   "mimetype": "text/x-python",
   "name": "python",
   "nbconvert_exporter": "python",
   "pygments_lexer": "ipython3",
   "version": "3.10.11"
  }
 },
 "nbformat": 4,
 "nbformat_minor": 2
}
